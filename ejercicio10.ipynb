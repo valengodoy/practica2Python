{
 "cells": [
  {
   "cell_type": "markdown",
   "metadata": {},
   "source": [
    "# <span style=\"color:DeepPink;\">**Actividad entregable**</span>\n",
    "---\n",
    "\n",
    "\n",
    "Un club de hockey posee las estadísticas de todos sus jugadores de la última\n",
    "temporada jugada del torneo de hockey mixto. Poseen una lista con los nombres, otra\n",
    "con los goles a favor, otra con los goles evitados y la última con las asistencias\n",
    "realizadas. El club está por otorgar los premios de cierre de temporada y necesita algunas funcionalidades"
   ]
  },
  {
   "cell_type": "markdown",
   "metadata": {},
   "source": [
    "### <span style=\"color:HotPink;\"> Declaracion e importacion </span>\n",
    "\n",
    "Se declaran los datos de los jugadores e importamos module con todas sus funciones.\n"
   ]
  },
  {
   "cell_type": "code",
   "execution_count": 13,
   "metadata": {},
   "outputs": [],
   "source": [
    "from module.functions import*\n",
    "\n",
    "names = \"\"\" Agustin, Yanina, Andrés, Ariadna, Bautista, CAROLINA,\n",
    "CESAR, David, Diego, Dolores, DYLAN, ELIANA, Emanuel, Fabián, Noelia,\n",
    "Francsica', FEDERICO, Fernanda, GONZALO, Nancy \"\"\"\n",
    "goals = [0, 10, 4, 0, 5, 14, 0, 0, 7, 2, 1, 1, 1, 5, 6, 1, 1, 2, 0, 11]\n",
    "goals_avoided = [0, 2, 0, 0, 5, 2, 0, 0, 1, 2, 0, 5, 5, 0, 1, 0, 2, 3, 0, 0]\n",
    "assists = [0, 5, 1, 0, 5, 2, 0, 0, 1, 2, 1, 5, 5, 0, 1, 0, 2, 3, 1, 0]"
   ]
  },
  {
   "cell_type": "markdown",
   "metadata": {},
   "source": [
    "\n",
    "***<span style=\"color: grey;\"> Las 4 estructuras están ordenadas de forma que los elementos en la misma posición corresponden a un mismo jugador o jugadora. </span>***"
   ]
  },
  {
   "cell_type": "markdown",
   "metadata": {},
   "source": [
    "### <span style=\"color:HotPink;\">Estructura de datos</span>\n",
    "Se crea una estructura para almacenar las estadisticas correspondientes a cada jugador.\n",
    "\n",
    "Consiste en una lista de diccionarios, donde cada diccionario contiene los datos de un jugador y su clave corresponde a la informacion del dato."
   ]
  },
  {
   "cell_type": "code",
   "execution_count": null,
   "metadata": {},
   "outputs": [],
   "source": [
    "names = names.split(\",\")\n",
    "statistics = []\n",
    "for name, goal, goal_avoided, assist in zip(names, goals, goals_avoided, assists):\n",
    "    player = {\n",
    "        \"Nombre\": name,\n",
    "        \"Goles\": goal,\n",
    "        \"Goles evitados\": goal_avoided,\n",
    "        \"Asistencias\": assist\n",
    "        }   \n",
    "    statistics.append(player)"
   ]
  },
  {
   "cell_type": "markdown",
   "metadata": {},
   "source": [
    "***<span style=\"color: grey;\"> Se obtiene una lista utilizando zip() donde tendra diccionarios y cada clave corresponde a la informacion que queremos obtener.</span>***"
   ]
  }
 ],
 "metadata": {
  "interpreter": {
   "hash": "aee8b7b246df8f9039afb4144a1f6fd8d2ca17a180786b69acc140d282b71a49"
  },
  "kernelspec": {
   "display_name": "Python 3.11.8 64-bit",
   "language": "python",
   "name": "python3"
  },
  "language_info": {
   "codemirror_mode": {
    "name": "ipython",
    "version": 3
   },
   "file_extension": ".py",
   "mimetype": "text/x-python",
   "name": "python",
   "nbconvert_exporter": "python",
   "pygments_lexer": "ipython3",
   "version": "3.11.8"
  },
  "orig_nbformat": 4
 },
 "nbformat": 4,
 "nbformat_minor": 2
}
