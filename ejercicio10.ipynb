{
 "cells": [
  {
   "cell_type": "markdown",
   "metadata": {},
   "source": [
    "# <span style=\"color:DeepPink;\">**Actividad entregable**</span>\n",
    "---\n",
    "\n",
    "\n",
    "Un club de hockey posee las estadísticas de todos sus jugadores de la última\n",
    "temporada jugada del torneo de hockey mixto. Poseen una lista con los nombres, otra\n",
    "con los goles a favor, otra con los goles evitados y la última con las asistencias\n",
    "realizadas. El club está por otorgar los premios de cierre de temporada y necesita algunas funcionalidades"
   ]
  },
  {
   "cell_type": "markdown",
   "metadata": {},
   "source": [
    "### <span style=\"color:HotPink;\"> Declaracion e importacion </span>\n",
    "\n",
    "Se declaran los datos de los jugadores e importamos module con todas sus funciones.\n"
   ]
  },
  {
   "cell_type": "code",
   "execution_count": 14,
   "metadata": {},
   "outputs": [],
   "source": [
    "from module.functions import*\n",
    "\n",
    "names = \"\"\" Agustin, Yanina, Andrés, Ariadna, Bautista, CAROLINA,\n",
    "CESAR, David, Diego, Dolores, DYLAN, ELIANA, Emanuel, Fabián, Noelia,\n",
    "Francsica', FEDERICO, Fernanda, GONZALO, Nancy \"\"\"\n",
    "goals = [0, 10, 4, 0, 5, 14, 0, 0, 7, 2, 1, 1, 1, 5, 6, 1, 1, 2, 0, 11]\n",
    "goals_avoided = [0, 2, 0, 0, 5, 2, 0, 0, 1, 2, 0, 5, 5, 0, 1, 0, 2, 3, 0, 0]\n",
    "assists = [0, 5, 1, 0, 5, 2, 0, 0, 1, 2, 1, 5, 5, 0, 1, 0, 2, 3, 1, 0]"
   ]
  },
  {
   "cell_type": "markdown",
   "metadata": {},
   "source": [
    "\n",
    "***<span style=\"color: grey;\"> Las 4 estructuras están ordenadas de forma que los elementos en la misma posición corresponden a un mismo jugador o jugadora. </span>***"
   ]
  },
  {
   "cell_type": "markdown",
   "metadata": {},
   "source": [
    "### <span style=\"color:HotPink;\">Estructura de datos</span>\n",
    "Se crea una estructura para almacenar las estadisticas correspondientes a cada jugador.\n",
    "\n",
    "Consiste en una lista de diccionarios, donde cada diccionario contiene los datos de un jugador y su clave corresponde a la informacion del dato."
   ]
  },
  {
   "cell_type": "code",
   "execution_count": 15,
   "metadata": {},
   "outputs": [],
   "source": [
    "names = names.split(\",\")\n",
    "statistics = []\n",
    "for name, goal, goal_avoided, assist in zip(names, goals, goals_avoided, assists):\n",
    "    player = {\n",
    "        \"Nombre\": name,\n",
    "        \"Goles\": goal,\n",
    "        \"Goles evitados\": goal_avoided,\n",
    "        \"Asistencias\": assist\n",
    "        }   \n",
    "    statistics.append(player)"
   ]
  },
  {
   "cell_type": "markdown",
   "metadata": {},
   "source": [
    "***<span style=\"color: grey;\"> Se obtiene una lista utilizando zip() donde tendra diccionarios y cada clave corresponde a la informacion que queremos obtener.</span>***"
   ]
  },
  {
   "cell_type": "markdown",
   "metadata": {},
   "source": [
    "### <span style=\"color:HotPink;\">Informacion del goleador del partido</span>\n",
    "Se conoce el nombre del goleador junto a sus goles realizados.\n",
    "\n",
    "Se llama a la funcion donde se obtienen los datos del goleador a partir de otra funcion que busca el jugador con mas goles.\n"
   ]
  },
  {
   "cell_type": "code",
   "execution_count": 16,
   "metadata": {},
   "outputs": [
    {
     "data": {
      "text/plain": [
       "'El goleador del partido es  CAROLINA con 14 goles'"
      ]
     },
     "execution_count": 16,
     "metadata": {},
     "output_type": "execute_result"
    }
   ],
   "source": [
    "info_best_player(statistics)"
   ]
  },
  {
   "cell_type": "markdown",
   "metadata": {},
   "source": [
    "***<span style=\"color: grey;\"> La funcion info_best_player() recibe la informacion de todos los jugadores y llama a la funcion best_player() que utiliza la funcion max() donde  tiene el valor maximo segun la funcion lambda que obtiene la cantidad de goles de cada jugador especificando la clave del diccionario. </span>***"
   ]
  },
  {
   "cell_type": "markdown",
   "metadata": {},
   "source": [
    "### <span style=\"color:HotPink;\">Jugador influyente</span>\n",
    "Evaluamos el jugador mas influyente de la temporada teniendo en en cuenta la siguiente informacion:\n",
    "\n",
    "|-------| valor | \n",
    "|---|---|\n",
    "| goles a favor | 1.5 |\n",
    "| goles evitados | 1.25 |\n",
    "| asistencias | 1 |\n",
    "\n",
    "\n",
    "Se llama a la funcion donde se encuentra el jugador mas influyente a partir de otra funcion que obtiene los puntos de cada jugador."
   ]
  },
  {
   "cell_type": "code",
   "execution_count": null,
   "metadata": {},
   "outputs": [],
   "source": [
    "influential_player (statistics)"
   ]
  },
  {
   "cell_type": "markdown",
   "metadata": {},
   "source": [
    "***<span style=\"color: grey;\">La funcion influential_player() recibe la informacion de los jugadores. Se usa max() para encontrar y comparar al jugador que tiene mas puntaje cuando se evalua points()</span>***"
   ]
  }
 ],
 "metadata": {
  "interpreter": {
   "hash": "aee8b7b246df8f9039afb4144a1f6fd8d2ca17a180786b69acc140d282b71a49"
  },
  "kernelspec": {
   "display_name": "Python 3.11.8 64-bit",
   "language": "python",
   "name": "python3"
  },
  "language_info": {
   "codemirror_mode": {
    "name": "ipython",
    "version": 3
   },
   "file_extension": ".py",
   "mimetype": "text/x-python",
   "name": "python",
   "nbconvert_exporter": "python",
   "pygments_lexer": "ipython3",
   "version": "3.11.8"
  },
  "orig_nbformat": 4
 },
 "nbformat": 4,
 "nbformat_minor": 2
}
